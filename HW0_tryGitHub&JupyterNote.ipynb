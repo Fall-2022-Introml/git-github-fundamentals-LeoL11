{
 "cells": [
  {
   "cell_type": "markdown",
   "id": "e9263b28-de78-4ab8-bcae-5e5548d20eb1",
   "metadata": {},
   "source": [
    "**This is a example file**"
   ]
  },
  {
   "cell_type": "markdown",
   "id": "84414db0-fbad-4bbf-9b23-83e3fdf5a9b7",
   "metadata": {},
   "source": [
    "**This is a _test_ case**"
   ]
  },
  {
   "cell_type": "markdown",
   "id": "c1950c02-4944-4f0f-8335-d3154d5cce7f",
   "metadata": {},
   "source": [
    ">this is quote\n"
   ]
  },
  {
   "cell_type": "markdown",
   "id": "8a6bd092-07e6-4854-bff8-a1a22db2ac40",
   "metadata": {},
   "source": [
    "- one\n",
    "- two\n",
    "- three"
   ]
  },
  {
   "cell_type": "code",
   "execution_count": 6,
   "id": "6238847d-98bd-4d30-9aca-894bebcb601a",
   "metadata": {
    "tags": []
   },
   "outputs": [
    {
     "name": "stdout",
     "output_type": "stream",
     "text": [
      "10\n"
     ]
    }
   ],
   "source": [
    "cat = 10\n",
    "print(cat)"
   ]
  },
  {
   "cell_type": "code",
   "execution_count": 7,
   "id": "2b64df69-5ad6-4107-a3ef-3a7bcebcd5f6",
   "metadata": {},
   "outputs": [
    {
     "data": {
      "text/plain": [
       "int"
      ]
     },
     "execution_count": 7,
     "metadata": {},
     "output_type": "execute_result"
    }
   ],
   "source": [
    "a = 1\n",
    "type(a)\n"
   ]
  },
  {
   "cell_type": "code",
   "execution_count": null,
   "id": "35f3dbe3-5b9e-403b-b78e-878bbe638d34",
   "metadata": {},
   "outputs": [],
   "source": []
  }
 ],
 "metadata": {
  "kernelspec": {
   "display_name": "Python 3 (ipykernel)",
   "language": "python",
   "name": "python3"
  },
  "language_info": {
   "codemirror_mode": {
    "name": "ipython",
    "version": 3
   },
   "file_extension": ".py",
   "mimetype": "text/x-python",
   "name": "python",
   "nbconvert_exporter": "python",
   "pygments_lexer": "ipython3",
   "version": "3.9.12"
  }
 },
 "nbformat": 4,
 "nbformat_minor": 5
}
